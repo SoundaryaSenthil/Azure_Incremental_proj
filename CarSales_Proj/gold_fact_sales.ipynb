{
 "cells": [
  {
   "cell_type": "markdown",
   "metadata": {
    "application/vnd.databricks.v1+cell": {
     "cellMetadata": {
      "byteLimit": 2048000,
      "rowLimit": 10000
     },
     "inputWidgets": {},
     "nuid": "ec37f269-8fb2-47b2-9306-2606813bd88d",
     "showTitle": false,
     "tableResultSettingsMap": {},
     "title": ""
    }
   },
   "source": [
    "## Create Fact Table"
   ]
  },
  {
   "cell_type": "markdown",
   "metadata": {
    "application/vnd.databricks.v1+cell": {
     "cellMetadata": {
      "byteLimit": 2048000,
      "rowLimit": 10000
     },
     "inputWidgets": {},
     "nuid": "8defba58-0ae2-48ce-aa6c-9f1d51e18b37",
     "showTitle": false,
     "tableResultSettingsMap": {},
     "title": ""
    }
   },
   "source": [
    "***Reading silver Table***"
   ]
  },
  {
   "cell_type": "code",
   "execution_count": 0,
   "metadata": {
    "application/vnd.databricks.v1+cell": {
     "cellMetadata": {
      "byteLimit": 2048000,
      "rowLimit": 10000
     },
     "inputWidgets": {},
     "nuid": "a1b1bc89-d851-40da-8601-a25cbb936dee",
     "showTitle": false,
     "tableResultSettingsMap": {},
     "title": ""
    }
   },
   "outputs": [],
   "source": [
    "df_silver = spark.sql(\"select * from parquet.`abfss://silver@adlscardatalake.dfs.core.windows.net/carsales`\")\n",
    "df_silver.display()"
   ]
  },
  {
   "cell_type": "markdown",
   "metadata": {
    "application/vnd.databricks.v1+cell": {
     "cellMetadata": {
      "byteLimit": 2048000,
      "rowLimit": 10000
     },
     "inputWidgets": {},
     "nuid": "829dc983-5522-4814-91eb-124621d7d6bd",
     "showTitle": false,
     "tableResultSettingsMap": {},
     "title": ""
    }
   },
   "source": [
    "## Creating DIMS"
   ]
  },
  {
   "cell_type": "code",
   "execution_count": 0,
   "metadata": {
    "application/vnd.databricks.v1+cell": {
     "cellMetadata": {
      "byteLimit": 2048000,
      "rowLimit": 10000
     },
     "inputWidgets": {},
     "nuid": "6e872841-47a2-4102-9872-fc8f8e9e3e44",
     "showTitle": false,
     "tableResultSettingsMap": {},
     "title": ""
    }
   },
   "outputs": [],
   "source": [
    "df_model = spark.sql(\"select * from cars_catalog.gold.dim_model\")\n",
    "df_branch = spark.sql(\"select * from cars_catalog.gold.dim_branch\")\n",
    "df_dealer = spark.sql(\"select * from cars_catalog.gold.dim_dealer\")\n",
    "df_date = spark.sql(\"select * from cars_catalog.gold.dim_date\")"
   ]
  },
  {
   "cell_type": "markdown",
   "metadata": {
    "application/vnd.databricks.v1+cell": {
     "cellMetadata": {
      "byteLimit": 2048000,
      "rowLimit": 10000
     },
     "inputWidgets": {},
     "nuid": "e18870eb-5e06-428f-b6a5-9971a0996a37",
     "showTitle": false,
     "tableResultSettingsMap": {},
     "title": ""
    }
   },
   "source": [
    "***Joining DIMS with dim_keys to create fact table***"
   ]
  },
  {
   "cell_type": "code",
   "execution_count": 0,
   "metadata": {
    "application/vnd.databricks.v1+cell": {
     "cellMetadata": {
      "byteLimit": 2048000,
      "rowLimit": 10000
     },
     "inputWidgets": {},
     "nuid": "f2decece-99d8-4d5d-b0a7-a6609c7d990f",
     "showTitle": false,
     "tableResultSettingsMap": {},
     "title": ""
    }
   },
   "outputs": [],
   "source": [
    "df_fact = df_silver.join(df_branch, df_silver.Branch_ID == df_branch.Branch_ID,'left') \\\n",
    "           .join(df_model, df_silver.Model_ID == df_model.Model_ID,'left') \\\n",
    "           .join(df_dealer, df_silver.Dealer_ID == df_dealer.Dealer_ID,'left') \\\n",
    "           .join(df_date, df_silver.Date_ID == df_date.Date_ID,'left') \\\n",
    "           .select(df_silver['Revenue'], df_silver['Units_Sold'],df_silver['RevenuePerUnit'], df_model['dim_model_key'], df_branch['dim_branch_key'], df_dealer['dim_dealer_key'], df_date['dim_date_key']).dropDuplicates()\n",
    "\n",
    "df_fact.display()"
   ]
  },
  {
   "cell_type": "markdown",
   "metadata": {
    "application/vnd.databricks.v1+cell": {
     "cellMetadata": {
      "byteLimit": 2048000,
      "rowLimit": 10000
     },
     "inputWidgets": {},
     "nuid": "1f2f12e6-da59-49cd-be2f-6c5f73c7edf2",
     "showTitle": false,
     "tableResultSettingsMap": {},
     "title": ""
    }
   },
   "source": [
    "## Writing Fact Table"
   ]
  },
  {
   "cell_type": "code",
   "execution_count": 0,
   "metadata": {
    "application/vnd.databricks.v1+cell": {
     "cellMetadata": {
      "byteLimit": 2048000,
      "rowLimit": 10000
     },
     "inputWidgets": {},
     "nuid": "6625ceaf-ab33-4684-98f4-ee59e63442ed",
     "showTitle": false,
     "tableResultSettingsMap": {},
     "title": ""
    }
   },
   "outputs": [],
   "source": [
    "from delta.tables import DeltaTable"
   ]
  },
  {
   "cell_type": "code",
   "execution_count": 0,
   "metadata": {
    "application/vnd.databricks.v1+cell": {
     "cellMetadata": {
      "byteLimit": 2048000,
      "rowLimit": 10000
     },
     "inputWidgets": {},
     "nuid": "a3820661-1a34-46a0-9aa1-5e39feec9b40",
     "showTitle": false,
     "tableResultSettingsMap": {},
     "title": ""
    }
   },
   "outputs": [],
   "source": [
    "if spark.catalog.tableExists(\"factsales\"):\n",
    "    delta_tbl  = DeltaTable.forName(\"cars_catalog.gold.factsales\")\n",
    "    \n",
    "    delta_tbl.alias(\"trg\").merge(df_fact.alias(\"src\"),'trg.dim_model_key == src.dim_model_key','trg.dim_branch_key == src.dim_branch_key','trg.dim_dealer_key == src.dim_dealer_key','trg.dim_date_key == src.dim_date_key') \\\n",
    "        .whenMatched().updateAll()\\\n",
    "        .whenNotMatched().insertAll()\n",
    "\n",
    "else:\n",
    "    df_fact.write.format(\"delta\")\\\n",
    "        .mode(\"overwrite\")\\\n",
    "        .option(\"path\",'abfss://gold@adlscardatalake.dfs.core.windows.net/factsales')\\\n",
    "        .saveAsTable(\"cars_catalog.gold.factsales\")"
   ]
  },
  {
   "cell_type": "code",
   "execution_count": 0,
   "metadata": {
    "application/vnd.databricks.v1+cell": {
     "cellMetadata": {
      "byteLimit": 2048000,
      "implicitDf": true,
      "rowLimit": 10000
     },
     "inputWidgets": {},
     "nuid": "a9b931e5-f328-4e33-9374-e73ed0a01a71",
     "showTitle": false,
     "tableResultSettingsMap": {},
     "title": ""
    }
   },
   "outputs": [],
   "source": [
    "%sql\n",
    "select  distinct(*) from cars_catalog.gold.factsales"
   ]
  }
 ],
 "metadata": {
  "application/vnd.databricks.v1+notebook": {
   "computePreferences": null,
   "dashboards": [],
   "environmentMetadata": {
    "base_environment": "",
    "environment_version": "2"
   },
   "inputWidgetPreferences": null,
   "language": "python",
   "notebookMetadata": {
    "mostRecentlyExecutedCommandWithImplicitDF": {
     "commandId": 4574832518135206,
     "dataframes": [
      "_sqldf"
     ]
    },
    "pythonIndentUnit": 4
   },
   "notebookName": "gold_fact_sales",
   "widgets": {}
  },
  "language_info": {
   "name": "python"
  }
 },
 "nbformat": 4,
 "nbformat_minor": 0
}
